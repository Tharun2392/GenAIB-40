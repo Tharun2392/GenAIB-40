{
  "nbformat": 4,
  "nbformat_minor": 0,
  "metadata": {
    "colab": {
      "provenance": [],
      "authorship_tag": "ABX9TyNAn+y4POjE3wSGzGoNFSmC",
      "include_colab_link": true
    },
    "kernelspec": {
      "name": "python3",
      "display_name": "Python 3"
    },
    "language_info": {
      "name": "python"
    }
  },
  "cells": [
    {
      "cell_type": "markdown",
      "metadata": {
        "id": "view-in-github",
        "colab_type": "text"
      },
      "source": [
        "<a href=\"https://colab.research.google.com/github/Tharun2392/GenAIB-40/blob/main/2303A52386_week5_ASSIGNMENT_5.ipynb\" target=\"_parent\"><img src=\"https://colab.research.google.com/assets/colab-badge.svg\" alt=\"Open In Colab\"/></a>"
      ]
    },
    {
      "cell_type": "code",
      "execution_count": 1,
      "metadata": {
        "colab": {
          "base_uri": "https://localhost:8080/"
        },
        "id": "UXUjb7f5Romz",
        "outputId": "0bf175c1-1c8d-4c71-bcfd-2b5abb5812f9"
      },
      "outputs": [
        {
          "output_type": "stream",
          "name": "stdout",
          "text": [
            "Training MSE: 0.000000\n",
            "Testing MSE: 0.000001\n",
            "Enter x1 and x2: 0.5 0.4\n",
            "Predicted Output: 0.360674\n"
          ]
        }
      ],
      "source": [
        "import numpy as np\n",
        "\n",
        "def sigmoid(x):\n",
        "    return 1 / (1 + np.exp(-x))\n",
        "\n",
        "def sigmoid_derivative(x):\n",
        "    return x * (1 - x)\n",
        "\n",
        "# Training data\n",
        "X_train = np.array([[0.2, 0.1], [0.3, 0.2], [0.4, 0.3], [0.7, 0.6], [0.8, 0.7], [0.9, 0.8]])\n",
        "y_train = np.array([[0.3441], [0.3500], [0.3558], [0.3729], [0.3785], [0.3841]])\n",
        "\n",
        "# Test data\n",
        "X_test = np.array([[0.5, 0.4], [0.6, 0.5]])\n",
        "y_test = np.array([[0.3615], [0.3672]])\n",
        "\n",
        "# ANN architecture\n",
        "input_neurons = 2\n",
        "hidden_neurons = 3\n",
        "output_neurons = 1\n",
        "learning_rate = 0.1\n",
        "epochs = 5000\n",
        "\n",
        "# Initialize weights and biases\n",
        "np.random.seed(42)\n",
        "weights_input_hidden = np.random.rand(input_neurons, hidden_neurons)\n",
        "bias_hidden = np.random.rand(1, hidden_neurons)\n",
        "weights_hidden_output = np.random.rand(hidden_neurons, output_neurons)\n",
        "bias_output = np.random.rand(1, output_neurons)\n",
        "\n",
        "# Training loop\n",
        "for epoch in range(epochs):\n",
        "    # Forward propagation\n",
        "    hidden_input = np.dot(X_train, weights_input_hidden) + bias_hidden\n",
        "    hidden_output = sigmoid(hidden_input)\n",
        "    final_input = np.dot(hidden_output, weights_hidden_output) + bias_output\n",
        "    final_output = final_input  # Linear activation\n",
        "\n",
        "    # Compute error\n",
        "    error = y_train - final_output\n",
        "\n",
        "    # Backpropagation\n",
        "    d_output = error  # Derivative of linear activation is 1\n",
        "    d_hidden = d_output.dot(weights_hidden_output.T) * sigmoid_derivative(hidden_output)\n",
        "\n",
        "    # Update weights and biases\n",
        "    weights_hidden_output += hidden_output.T.dot(d_output) * learning_rate\n",
        "    bias_output += np.sum(d_output, axis=0, keepdims=True) * learning_rate\n",
        "    weights_input_hidden += X_train.T.dot(d_hidden) * learning_rate\n",
        "    bias_hidden += np.sum(d_hidden, axis=0, keepdims=True) * learning_rate\n",
        "\n",
        "# Predictions and MSE Calculation\n",
        "def mse(y_true, y_pred):\n",
        "    return np.mean((y_true - y_pred) ** 2)\n",
        "\n",
        "# Train error\n",
        "hidden_output_train = sigmoid(np.dot(X_train, weights_input_hidden) + bias_hidden)\n",
        "train_predictions = np.dot(hidden_output_train, weights_hidden_output) + bias_output\n",
        "train_mse = mse(y_train, train_predictions)\n",
        "\n",
        "# Test error\n",
        "hidden_output_test = sigmoid(np.dot(X_test, weights_input_hidden) + bias_hidden)\n",
        "test_predictions = np.dot(hidden_output_test, weights_hidden_output) + bias_output\n",
        "test_mse = mse(y_test, test_predictions)\n",
        "\n",
        "print(f\"Training MSE: {train_mse:.6f}\")\n",
        "print(f\"Testing MSE: {test_mse:.6f}\")\n",
        "\n",
        "# Predict function\n",
        "def predict(x1, x2):\n",
        "    x_input = np.array([[x1, x2]])\n",
        "    hidden_output = sigmoid(np.dot(x_input, weights_input_hidden) + bias_hidden)\n",
        "    output = np.dot(hidden_output, weights_hidden_output) + bias_output\n",
        "    return output[0, 0]\n",
        "\n",
        "# User input for prediction\n",
        "x1, x2 = map(float, input(\"Enter x1 and x2: \").split())\n",
        "predicted_output = predict(x1, x2)\n",
        "print(f\"Predicted Output: {predicted_output:.6f}\")"
      ]
    }
  ]
}